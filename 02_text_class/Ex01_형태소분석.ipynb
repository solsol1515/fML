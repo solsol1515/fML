{
 "cells": [
  {
   "cell_type": "markdown",
   "metadata": {},
   "source": [
    "##  형태소 분석 (Morphological Analysis)\n",
    "\n",
    " + 자연 언어의 문장을 \"형태소\"라는 의미의 최소 단위로 분할하고, 품사를 판별하는 작업\n",
    " + 기계번역, 텍스트 마이닝에서 활용되는 중요한 작업\n",
    "\n",
    " + 영어의 형태소 분석은 쉽다\n",
    "\t\"I want to eat a apple\"\n",
    "\t조사역할의 to, a를 거르면 I, eat, apple 단어 추출\n",
    "\n",
    " + 한국어의 형태소 분석은 어렵다\n",
    "\t\"나는 사과를 먹고 싶다\"\n",
    "\t단어에 조사가 붙어 있어서 모든 품사와 문법 사전을 기반으로 대조하면서 단어를 추출해야 한다\n",
    "\t단순하게 '는' '을'을 제거한다고 되는 것이 아니다.\n",
    "\t\"소은 노을 이쁘다고 한다\"\n",
    "\t여기서 '은'과 '을'을 제거하면 안되고 '이쁜다고 한다'에서 '이쁘다' 어원도 추출해야 한다.\n",
    "\n",
    " + 한국어 형태소 분석 라이브러리 중 KoNLPy 사용\n",
    "\thttp://konlpy.org/ko/latest\n",
    "\n",
    " + 형태소 분석 라이브러리 : KoNLPy ( http://konlpy.org/ko/latest/ )\n",
    "\n",
    " + 형태소 분석기 :Okt / 한나눔 / 꼬꼬마 / Kormoran / MeCab 등\n",
    "\n",
    "\n",
    "\n",
    "### *** KoNLPy 설치\n",
    "\n",
    "   - http://konlpy.org/ko/latest/install/\n",
    "    \n",
    "        > 왼쪽 메뉴에서 윈도우 선택하고 확인하면서 실행하는 방식 확인\n",
    "    \n",
    "   - https://www.lfd.uci.edu/~gohlke/pythonlibs/#jpype\n",
    "\n",
    "      (1) JPype 확인 - 컴퓨터 bit / 파이썬 버전 ( python --version ) 에 맞는 실행 파일 다운로드\n",
    "       \n",
    "        [주의]  JPype1 설치할 때 ( 최신 버전 확인 )\n",
    "            JPype1‑0.7.1‑cp37‑cp37m‑win_amd64.whl\n",
    "            ( 컴퓨터 64bit / cp37 : python 3.7 버전  )\n",
    "      \n",
    "      (2) Anaconda Prompt 창이나 cmd 창  \n",
    "         > pip install --upgrade pip\n",
    "         > cd 다운받은폴더\n",
    "         > pip install JPype1-1.1.2-cp38-cp38-win_amd64.whl         \n",
    "        \n",
    "      (3) pip install konlpy        \n",
    "\n",
    "      (4) jupyter notebook을 다시 재실행해야 한다\n",
    "    \n",
    "        ` Anaconda Prompt 에서도 실행가능\n",
    "   \n",
    "\n",
    "[참고] 데이타 사이언스 스쿨 :\n",
    "\n",
    "+ https://datascienceschool.net/03%20machine%20learning/03.01.02%20KoNLPy%20한국어%20처리%20패키지.html?highlight=konlpy\n",
    "\n",
    "+ "
   ]
  },
  {
   "cell_type": "code",
   "execution_count": 1,
   "metadata": {},
   "outputs": [
    {
     "name": "stdout",
     "output_type": "stream",
     "text": [
      "Collecting konlpy\n",
      "  Downloading konlpy-0.6.0-py2.py3-none-any.whl (19.4 MB)\n",
      "     --------------------------------------- 19.4/19.4 MB 65.1 MB/s eta 0:00:00\n",
      "Requirement already satisfied: JPype1>=0.7.0 in c:\\users\\kosmo\\anaconda3\\lib\\site-packages (from konlpy) (1.4.0)\n",
      "Requirement already satisfied: numpy>=1.6 in c:\\users\\kosmo\\anaconda3\\lib\\site-packages (from konlpy) (1.21.5)\n",
      "Requirement already satisfied: lxml>=4.1.0 in c:\\users\\kosmo\\anaconda3\\lib\\site-packages (from konlpy) (4.9.1)\n",
      "Installing collected packages: konlpy\n",
      "Successfully installed konlpy-0.6.0\n"
     ]
    }
   ],
   "source": [
    "#!pip install konlpy"
   ]
  },
  {
   "cell_type": "markdown",
   "metadata": {},
   "source": [
    "## 꼬꼬마"
   ]
  },
  {
   "cell_type": "code",
   "execution_count": 2,
   "metadata": {},
   "outputs": [],
   "source": [
    "# KoNLPy의 kkma 형태소 분석기 확인\n",
    "from konlpy.tag import Kkma\n",
    "from konlpy.utils import pprint\n",
    "\n",
    "kkma = Kkma()\n",
    "\n",
    "st = '한국어 분석을 시작합니다 재미없어요 히히'\n",
    "\n"
   ]
  },
  {
   "cell_type": "code",
   "execution_count": 3,
   "metadata": {},
   "outputs": [
    {
     "data": {
      "text/plain": [
       "['한국어 분석을 시작합니다', '재미 없어요', '히히']"
      ]
     },
     "execution_count": 3,
     "metadata": {},
     "output_type": "execute_result"
    }
   ],
   "source": [
    "# 문장분석\n",
    "kkma.sentences(st)\n"
   ]
  },
  {
   "cell_type": "code",
   "execution_count": 4,
   "metadata": {},
   "outputs": [
    {
     "data": {
      "text/plain": [
       "['한국어', '분석', '재미']"
      ]
     },
     "execution_count": 4,
     "metadata": {},
     "output_type": "execute_result"
    }
   ],
   "source": [
    "# 명사분석\n",
    "kkma.nouns(st)\n"
   ]
  },
  {
   "cell_type": "code",
   "execution_count": 5,
   "metadata": {},
   "outputs": [
    {
     "data": {
      "text/plain": [
       "[('한국어', 'NNG'),\n",
       " ('분석', 'NNG'),\n",
       " ('을', 'JKO'),\n",
       " ('시작하', 'VV'),\n",
       " ('ㅂ니다', 'EFN'),\n",
       " ('재미', 'NNG'),\n",
       " ('없', 'VA'),\n",
       " ('어요', 'EFN'),\n",
       " ('히히', 'MAG')]"
      ]
     },
     "execution_count": 5,
     "metadata": {},
     "output_type": "execute_result"
    }
   ],
   "source": [
    "# 품사분석 : 한국어는 형태변화가 많아 영어처럼 쉽게 안됨\n",
    "kkma.pos(st)\n"
   ]
  },
  {
   "cell_type": "markdown",
   "metadata": {},
   "source": [
    "## 한나눔 엔진"
   ]
  },
  {
   "cell_type": "code",
   "execution_count": 7,
   "metadata": {},
   "outputs": [],
   "source": [
    "from konlpy.tag import Hannanum\n",
    "\n",
    "hannanum = Hannanum()\n"
   ]
  },
  {
   "cell_type": "code",
   "execution_count": 8,
   "metadata": {},
   "outputs": [
    {
     "data": {
      "text/plain": [
       "['한국어', '분석', '시작', '재미']"
      ]
     },
     "execution_count": 8,
     "metadata": {},
     "output_type": "execute_result"
    }
   ],
   "source": [
    "# 명사분석 : 꼬꼬마 엔진과 다른 결과\n",
    "\n",
    "hannanum.nouns(st)"
   ]
  },
  {
   "cell_type": "code",
   "execution_count": 9,
   "metadata": {},
   "outputs": [
    {
     "data": {
      "text/plain": [
       "['한국어', '분석', '을', '시작', '하', 'ㅂ니다', '재미', '없', '어', '요', '히히']"
      ]
     },
     "execution_count": 9,
     "metadata": {},
     "output_type": "execute_result"
    }
   ],
   "source": [
    "# 형태소분석\n",
    "\n",
    "hannanum.morphs(st)"
   ]
  },
  {
   "cell_type": "code",
   "execution_count": 10,
   "metadata": {},
   "outputs": [
    {
     "data": {
      "text/plain": [
       "[('한국어', 'N'),\n",
       " ('분석', 'N'),\n",
       " ('을', 'J'),\n",
       " ('시작', 'N'),\n",
       " ('하', 'X'),\n",
       " ('ㅂ니다', 'E'),\n",
       " ('재미', 'N'),\n",
       " ('없', 'X'),\n",
       " ('어', 'E'),\n",
       " ('요', 'J'),\n",
       " ('히히', 'M')]"
      ]
     },
     "execution_count": 10,
     "metadata": {},
     "output_type": "execute_result"
    }
   ],
   "source": [
    "# 품사분석\n",
    "\n",
    "hannanum.pos(st)"
   ]
  },
  {
   "cell_type": "markdown",
   "metadata": {},
   "source": [
    "## Okt 엔진 ( 예전의 Twitter 엔진)"
   ]
  },
  {
   "cell_type": "code",
   "execution_count": 11,
   "metadata": {},
   "outputs": [],
   "source": [
    "from konlpy.tag import Okt\n",
    "okt = Okt()"
   ]
  },
  {
   "cell_type": "code",
   "execution_count": 12,
   "metadata": {},
   "outputs": [
    {
     "data": {
      "text/plain": [
       "['한국어', '분석', '시작']"
      ]
     },
     "execution_count": 12,
     "metadata": {},
     "output_type": "execute_result"
    }
   ],
   "source": [
    "# 명사분석   (nouns())\n",
    "\n",
    "okt.nouns(st)"
   ]
  },
  {
   "cell_type": "code",
   "execution_count": 13,
   "metadata": {},
   "outputs": [
    {
     "data": {
      "text/plain": [
       "['한국어', '분석', '을', '시작', '합니다', '재미없어요', '히', '히']"
      ]
     },
     "execution_count": 13,
     "metadata": {},
     "output_type": "execute_result"
    }
   ],
   "source": [
    "# 형태소분석   (morphs())\n",
    "\n",
    "okt.morphs(st)"
   ]
  },
  {
   "cell_type": "code",
   "execution_count": 14,
   "metadata": {},
   "outputs": [
    {
     "data": {
      "text/plain": [
       "[('한국어', 'Noun'),\n",
       " ('분석', 'Noun'),\n",
       " ('을', 'Josa'),\n",
       " ('시작', 'Noun'),\n",
       " ('합니다', 'Verb'),\n",
       " ('재미없어요', 'Adjective'),\n",
       " ('히', 'Adverb'),\n",
       " ('히', 'Adverb')]"
      ]
     },
     "execution_count": 14,
     "metadata": {},
     "output_type": "execute_result"
    }
   ],
   "source": [
    "# 품사분석  (pos())\n",
    "\n",
    "okt.pos(st)"
   ]
  },
  {
   "cell_type": "markdown",
   "metadata": {},
   "source": [
    "KoNLPy 형태소 분석기 중에서 '나는사과를좋아한다' 문장을 분석할 수 있는 분석기는 많지 않지만 계속 발전하고 있는 중이다\n",
    "관련 사항 확인 http://konlpy.org/ko/latest/api/konlpy.tag\n",
    "\n",
    " [ 연습 ] 독도는 대한민국의 아름다운 섬이다"
   ]
  }
 ],
 "metadata": {
  "kernelspec": {
   "display_name": "Python 3 (ipykernel)",
   "language": "python",
   "name": "python3"
  },
  "language_info": {
   "codemirror_mode": {
    "name": "ipython",
    "version": 3
   },
   "file_extension": ".py",
   "mimetype": "text/x-python",
   "name": "python",
   "nbconvert_exporter": "python",
   "pygments_lexer": "ipython3",
   "version": "3.9.13"
  }
 },
 "nbformat": 4,
 "nbformat_minor": 2
}
