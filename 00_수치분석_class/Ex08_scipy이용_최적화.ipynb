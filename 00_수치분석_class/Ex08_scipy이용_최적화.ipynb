{
 "cells": [
  {
   "cell_type": "markdown",
   "metadata": {},
   "source": [
    "## scipy를 이용한 최적화\n",
    "\n",
    "* scipy의 서브 패키지 optimize에 minimize 메소드를 이용하여 최적화한다\n",
    "* 이 때 사용하는 BFGS 알고리즘이다\n",
    "* minimize 메소드는 최적화를 시작하기 위한 초기값과 목적함수를 인수로 사용한다\n",
    "\n",
    "\n",
    "#### * minimize 메소드\n",
    "최적화 결과를 OptimizeResult 클래스 객체로 반환한다\n",
    "\n",
    "    OptimizeResult 클래스의 속성들 :\n",
    "    - x : 최적화 해\n",
    "    - success : 최적화를 성공했을 때 True 반환\n",
    "    - status : 종료 상태. 최적화에 성공했을 때 0을 반환\n",
    "    - message : 최적화 성공/실패 메세지 문자열\n",
    "    - fun : x 위치에서의 함수 값\n",
    "    - jac : x 위치에서의 자코비안(그레디언트:기울기) 벡터 값\n",
    "    - hess : x 위치에서의 헤시안 행렬 값\n",
    "    - nfev : 목적 함수를 몇 번 호출한 횟수\n",
    "    - njev : 자코비안 계산 횟수\n",
    "    - nhev : 헤시안 계산 횟수\n",
    "    - nit : x 이동 횟수\n",
    "\n",
    "[참고] 데이타 사이언스 스쿨\n",
    "https://datascienceschool.net/view-notebook/4642b9f187784444b8f3a8309c583007/\n"
   ]
  },
  {
   "cell_type": "code",
   "execution_count": 1,
   "metadata": {
    "scrolled": true
   },
   "outputs": [
    {
     "name": "stdout",
     "output_type": "stream",
     "text": [
      "      fun: 2.0\n",
      " hess_inv: array([[0.5]])\n",
      "      jac: array([0.])\n",
      "  message: 'Optimization terminated successfully.'\n",
      "     nfev: 9\n",
      "      nit: 2\n",
      "     njev: 3\n",
      "   status: 0\n",
      "  success: True\n",
      "        x: array([1.99999999])\n"
     ]
    }
   ],
   "source": [
    "from scipy import optimize\n",
    "\n",
    "# 목적함수\n",
    "def f1(x):\n",
    "    return (x-2)**2+2\n",
    "\n",
    "# 초기값 설정\n",
    "x0 = 0\n",
    "\n",
    "result = optimize.minimize(f1, x0) # 목적함수와 초기값 지정\n",
    "print(result)"
   ]
  },
  {
   "cell_type": "markdown",
   "metadata": {},
   "source": [
    "[결과분석]\n",
    "\n",
    "      fun: 2.0                              # 최적값의 해가 2인 경우 목적함수 값      \n",
    "     hess_inv: array([[0.5]]) \n",
    "      jac: array([0.])\n",
    "      message: 'Optimization terminated successfully.'  \n",
    "     nfev: 9                                # 목적함수의 호출 횟수     \n",
    "      nit: 2                                # x값의 위치를 2번 호출      \n",
    "     njev: 3     \n",
    "       status: 0                                # 종료   \n",
    "      success: True                             # 성공종료  \n",
    "        x: array([1.99999999])              # 최적값의 해(거의 2이다)\n",
    "        \n",
    "        \n",
    "x값은 2번 이동했는데 목적함수를 9번 호출했다는 것은 자코비안값을 계산하기 위해(미분 계산?)\n",
    "헤시안 값과 자코비안 벡터 값을 찾기 위해서 함수를 호출횟수가 늘어나는데\n",
    "헤시안 값과 자코비안 값을 적정하게 선정하는 것이 좋다"
   ]
  },
  {
   "cell_type": "markdown",
   "metadata": {},
   "source": [
    "## scipy의 서브 패키지(하위 모듈)\n",
    "\n",
    "\n",
    "1. scipy.optimize : 최적화\n",
    "2. scipy.stats : 통계\n",
    "3. scipy.interplate : 보간법\n",
    "4. scipy.io : 데이터 입출력\n",
    "5. scipy.linalg : 선형대수 루틴 (linear algibura)"
   ]
  }
 ],
 "metadata": {
  "kernelspec": {
   "display_name": "Python 3",
   "language": "python",
   "name": "python3"
  },
  "language_info": {
   "codemirror_mode": {
    "name": "ipython",
    "version": 3
   },
   "file_extension": ".py",
   "mimetype": "text/x-python",
   "name": "python",
   "nbconvert_exporter": "python",
   "pygments_lexer": "ipython3",
   "version": "3.7.3"
  }
 },
 "nbformat": 4,
 "nbformat_minor": 2
}
