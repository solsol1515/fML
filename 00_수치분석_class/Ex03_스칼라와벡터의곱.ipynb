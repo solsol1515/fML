{
 "cells": [
  {
   "cell_type": "markdown",
   "metadata": {},
   "source": [
    "### 스칼라와 벡터의 곱\n",
    "\n",
    "- 양수 와 벡터의 곱은 벡터이 방향은 변하지 않고 그 양수의 크기만큼 벡터의 크기가 커진다\n",
    "- 음수를 곱하면 벡터의 방향은 반대방향이 된다"
   ]
  },
  {
   "cell_type": "code",
   "execution_count": 31,
   "metadata": {},
   "outputs": [],
   "source": [
    "%matplotlib inline\n",
    "import numpy as np\n",
    "import matplotlib.pyplot as plt"
   ]
  },
  {
   "cell_type": "code",
   "execution_count": 32,
   "metadata": {},
   "outputs": [
    {
     "name": "stdout",
     "output_type": "stream",
     "text": [
      "[2 4]\n",
      "[-1 -2]\n"
     ]
    }
   ],
   "source": [
    "a = np.array([1,2])\n",
    "b = 2 * a\n",
    "c = -1 * a\n",
    "print(b)\n",
    "print(c)"
   ]
  },
  {
   "cell_type": "code",
   "execution_count": 34,
   "metadata": {},
   "outputs": [
    {
     "data": {
      "text/plain": [
       "[<matplotlib.lines.Line2D at 0x27d41765dd8>]"
      ]
     },
     "execution_count": 34,
     "metadata": {},
     "output_type": "execute_result"
    },
    {
     "data": {
      "image/png": "[encoded data removed]",
      "text/plain": [
       "<Figure size 432x288 with 1 Axes>"
      ]
     },
     "metadata": {
      "needs_background": "light"
     },
     "output_type": "display_data"
    }
   ],
   "source": [
    "\"\"\"\n",
    "# 좌표로 확인\n",
    "plt.annotate('',xy=b, xytext=(0,0), arrowprops=dict(facecolor='red'))\n",
    "plt.plot(0,0,'ko',ms=20) # k:black, o:o모양\n",
    "plt.xlim(-5, 5)               # x축과 y축을 지정하면 라벨을 자동으로 설정\n",
    "plt.ylim(-3, 5)\n",
    "plt.xticks(np.arange(-4, 6))  # 틱라벨을 직접 지정\n",
    "plt.yticks(np.arange(-4, 6))\n",
    "plt.grid(True)\"\"\"\n",
    "\n",
    "\n",
    "plt.plot(0,0,'ko',ms=20) # k:black, o:o모양\n",
    "plt.xlim(-5, 5)               # x축과 y축을 지정하면 라벨을 자동으로 설정\n",
    "plt.ylim(-3, 5)\n",
    "plt.xticks(np.arange(-4, 6))  # 틱라벨을 직접 지정\n",
    "plt.yticks(np.arange(-4, 6))\n",
    "plt.grid(True)\n",
    "\n",
    "# 원래 벡터 추가와 c 벡터 추가\n",
    "plt.annotate('',xy=b, xytext=(0,0), arrowprops=dict(facecolor='red'))\n",
    "plt.annotate('',xy=a, xytext=(0,0), arrowprops=dict(facecolor='gray'))\n",
    "plt.annotate('',xy=c, xytext=(0,0), arrowprops=dict(facecolor='yellow'))\n",
    "\n",
    "\n",
    "# 각 벡터(화살표선)에 글씨 추가\n",
    "plt.text(0.2, 1.2, '$a$', fontdict={'size':15 })\n",
    "\n",
    "# 각 벡터를 점으로 표현\n",
    "plt.plot(a[0], a[1], 'go', ms=15)"
   ]
  },
  {
   "cell_type": "markdown",
   "metadata": {},
   "source": [
    "### 단위벡터 : 길이가 1인 벡터"
   ]
  },
  {
   "cell_type": "code",
   "execution_count": 27,
   "metadata": {},
   "outputs": [
    {
     "name": "stdout",
     "output_type": "stream",
     "text": [
      "1.0\n",
      "1.0\n",
      "0.9999999999999999\n"
     ]
    }
   ],
   "source": [
    "a = np.array([1.0])\n",
    "b = np.array([0,1])\n",
    "c = np.array([1/np.sqrt(2), 1/np.sqrt(2)])\n",
    "\n",
    "print(np.linalg.norm(a))\n",
    "print(np.linalg.norm(b))\n",
    "print(np.linalg.norm(c)) # 0.99999 이지만 단위행렬이다"
   ]
  },
  {
   "cell_type": "markdown",
   "metadata": {},
   "source": [
    "#### [참고] 벡터와 행렬의 연산\n",
    "\n",
    "데이터 사이언스 스쿨\n",
    "https://datascienceschool.net/view-notebook/3f44cfdda2874080a9aa6b034c71d5ec/"
   ]
  }
 ],
 "metadata": {
  "kernelspec": {
   "display_name": "Python 3",
   "language": "python",
   "name": "python3"
  },
  "language_info": {
   "codemirror_mode": {
    "name": "ipython",
    "version": 3
   },
   "file_extension": ".py",
   "mimetype": "text/x-python",
   "name": "python",
   "nbconvert_exporter": "python",
   "pygments_lexer": "ipython3",
   "version": "3.7.3"
  }
 },
 "nbformat": 4,
 "nbformat_minor": 2
}
