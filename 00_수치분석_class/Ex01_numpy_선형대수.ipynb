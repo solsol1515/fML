{
 "cells": [
  {
   "cell_type": "markdown",
   "metadata": {},
   "source": [
    "## 선형대수 (Linear Algebra) \n",
    "\n",
    "- 데이타 분석에 필요한 계산(?)\n",
    "\n",
    "### 데이타 유형\n",
    "\n",
    "1. 스칼라(scalar) : 하나의 값으로 이루어진 데이타\n",
    "2. 벡터(vector) : 여러개의 값으로 이루어진 데이타 (= 데이타 레코드)\n",
    "3. 행렬(matrix) : 벡터가 여러개인 데이터 집합\n",
    "\n",
    "\n",
    "### numpy 에서 벡터를 표현 할 때\n",
    "1. numpy에서도 1차원 배열 객체도 벡터이다 \n",
    "    + x1 = np.array([2.1, 2.2, 2.3])    \n",
    "    \n",
    "\n",
    "2. 벡터를 열의 개수가 하나인 2차원 배열 객체로 표현하는 것이 올바르다\n",
    "    + x1 = np.array([[2.1], [2.2], [2.3]])\n"
   ]
  },
  {
   "cell_type": "code",
   "execution_count": 1,
   "metadata": {},
   "outputs": [],
   "source": [
    "import numpy as np"
   ]
  },
  {
   "cell_type": "code",
   "execution_count": 8,
   "metadata": {},
   "outputs": [
    {
     "name": "stdout",
     "output_type": "stream",
     "text": [
      "[1 2 3]\n",
      "[[1]\n",
      " [2]\n",
      " [3]]\n"
     ]
    }
   ],
   "source": [
    "x1 = np.array([1, 2, 3])  # 행벡터 - row vector\n",
    "print(x1)\n",
    "\n",
    "x1 = np.array([[1], [2], [3]]) # 열벡터 - columns vector\n",
    "print(x1)"
   ]
  },
  {
   "cell_type": "markdown",
   "metadata": {},
   "source": [
    "### 행렬\n",
    "    - 하나의 데이터 레코드를 단독 벡터로 나타낼때는 하나의 열로 나타낸다.\n",
    "    - 하나의 데이터 레코드를 벡터로 표현할 때도 하나의 열로 나타낸다\n",
    "    - 복수의 데이타 레코드 집합을 행렬로 표현할 때는 하나의 데이타 레코드 행으로 표현된다.\n",
    "    - 뭔말이야??????\n",
    "\n",
    "#### 1.전치행렬 : 전치 연산으로 만들어진 행렬\n",
    "\n",
    "   ** 전치 연산 : T\n",
    "    - 행렬에서 가장 기본이 되는 연산\n",
    "    - 행과 열을 바꾸는 연산\n",
    "    \n",
    "   1.  벡터 x(열벡터)에 대한 전치 연산을 하면 행벡터(row vector)가 된다\n",
    "   \n",
    "   2. 벡터 x(행벡터)에 대해서는 변화가 없다"
   ]
  },
  {
   "cell_type": "code",
   "execution_count": 13,
   "metadata": {},
   "outputs": [
    {
     "name": "stdout",
     "output_type": "stream",
     "text": [
      "[[2]\n",
      " [3]\n",
      " [4]\n",
      " [5]]\n",
      "[[2 3 4 5]]\n",
      "[10 20 30]\n",
      "[10 20 30]\n"
     ]
    }
   ],
   "source": [
    "#  1.벡터 x(열벡터)에 대한 전치 연산을 하면 행벡터(row vector)가 된다\n",
    "\n",
    "x1 = np.array([[2],[3],[4],[5]])\n",
    "print(x1)\n",
    "\n",
    "# T는 메소드가 아니라 속성이다\n",
    "print(x1.T)\n",
    "\n",
    "\n",
    "#  2. 벡터 x(행벡터)에 대해서는 변화가 없다\n",
    "x2 = np.array([10,20, 30])\n",
    "print(x2)\n",
    "print(x2.T)"
   ]
  },
  {
   "cell_type": "markdown",
   "metadata": {},
   "source": [
    "#### 2. 다양한 행렬\n",
    "\n",
    "- 정방행렬 : 행과 열의개수가 같은행렬 (square matrix)\n",
    "\n",
    "\n",
    "- 대각행렬 :  주대각선을 제외한 곳의 원소가 모두 0인 정사각행렬이다.\n",
    "           ( 대각행렬은 0일 수도, 아닐 수도 있는 대각원소들에 의해 결정된다 )\n",
    "            numpy의 diag ()로 생성\n",
    "            \n",
    "- 단위행렬 : 대각행렬 중에서 모든 대각 성분의 값이 1인 대각행렬 (identity matrix) \n",
    "            ( 항등행렬이라고도 함 )\n",
    "\n",
    "- 대칭행렬 : 전치연산을 통해 얻은 전치행렬과 원래 행렬이 같은 경우 (symmetric matrix)\n",
    "            ( 단, 대칭행렬은 정방행렬이여야 한다 )\n",
    "\n",
    "\n",
    "#### 3. 특수벡터\n",
    "\n",
    "+ 0벡터 \n",
    "+ 1벡터"
   ]
  },
  {
   "cell_type": "code",
   "execution_count": 18,
   "metadata": {},
   "outputs": [
    {
     "name": "stdout",
     "output_type": "stream",
     "text": [
      "[1. 1. 1. 1. 1. 1. 1. 1. 1. 1.]\n",
      "[[0. 0. 0. 0. 0.]\n",
      " [0. 0. 0. 0. 0.]\n",
      " [0. 0. 0. 0. 0.]\n",
      " [0. 0. 0. 0. 0.]\n",
      " [0. 0. 0. 0. 0.]]\n"
     ]
    }
   ],
   "source": [
    "# 특수행렬\n",
    "print(np.ones( 10 )) # 1로 채원진 10 크기의 (1차원) 배열 생성\n",
    "\n",
    "print(np.zeros( (5,5) )) # 0으로 채원진 5x5 크기의 배열 생성"
   ]
  },
  {
   "cell_type": "code",
   "execution_count": 21,
   "metadata": {},
   "outputs": [
    {
     "name": "stdout",
     "output_type": "stream",
     "text": [
      "[[1 0 0]\n",
      " [0 2 0]\n",
      " [0 0 3]]\n",
      "[[1. 0. 0.]\n",
      " [0. 1. 0.]\n",
      " [0. 0. 1.]]\n",
      "[[1. 0. 0. 0.]\n",
      " [0. 1. 0. 0.]\n",
      " [0. 0. 1. 0.]\n",
      " [0. 0. 0. 1.]]\n"
     ]
    }
   ],
   "source": [
    "# 대각행렬\n",
    "d = np.diag([1, 2, 3])\n",
    "print(d)\n",
    "\n",
    "# 단위행렬\n",
    "i= np.identity(3)\n",
    "print(i)\n",
    "\n",
    "i2 = np.eye(4) # identiry()와 동일\n",
    "print(i2)\n",
    "\n",
    "# 대칭행렬\n"
   ]
  },
  {
   "cell_type": "markdown",
   "metadata": {},
   "source": [
    "#### [참고] 데이타 사이언스 스쿨\n",
    "\n"
   ]
  },
  {
   "cell_type": "code",
   "execution_count": null,
   "metadata": {},
   "outputs": [],
   "source": []
  },
  {
   "cell_type": "code",
   "execution_count": null,
   "metadata": {},
   "outputs": [],
   "source": []
  },
  {
   "cell_type": "code",
   "execution_count": null,
   "metadata": {},
   "outputs": [],
   "source": []
  }
 ],
 "metadata": {
  "kernelspec": {
   "display_name": "Python 3",
   "language": "python",
   "name": "python3"
  },
  "language_info": {
   "codemirror_mode": {
    "name": "ipython",
    "version": 3
   },
   "file_extension": ".py",
   "mimetype": "text/x-python",
   "name": "python",
   "nbconvert_exporter": "python",
   "pygments_lexer": "ipython3",
   "version": "3.8.5"
  }
 },
 "nbformat": 4,
 "nbformat_minor": 2
}
