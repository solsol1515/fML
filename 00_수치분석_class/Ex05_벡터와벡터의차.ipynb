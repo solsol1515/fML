{
 "cells": [
  {
   "cell_type": "markdown",
   "metadata": {},
   "source": [
    "### 벡터의 차\n",
    "\n",
    "a - b = c\n",
    "\n",
    "a = c + b\n",
    "\n",
    "즉, 벡터의 차도 벡터의 합의 개념"
   ]
  },
  {
   "cell_type": "code",
   "execution_count": 1,
   "metadata": {},
   "outputs": [],
   "source": [
    "import numpy as np\n",
    "import matplotlib.pylab as plt"
   ]
  },
  {
   "cell_type": "code",
   "execution_count": 2,
   "metadata": {},
   "outputs": [],
   "source": [
    "a = np.array([1,2])\n",
    "b = np.array([2,1])\n",
    "c = a - b"
   ]
  },
  {
   "cell_type": "code",
   "execution_count": 5,
   "metadata": {},
   "outputs": [
    {
     "data": {
      "text/plain": [
       "[<matplotlib.lines.Line2D at 0x2710c2c5978>]"
      ]
     },
     "execution_count": 5,
     "metadata": {},
     "output_type": "execute_result"
    },
    {
     "data": {
      "image/png": "[encoded data removed]",
      "text/plain": [
       "<Figure size 432x288 with 1 Axes>"
      ]
     },
     "metadata": {
      "needs_background": "light"
     },
     "output_type": "display_data"
    }
   ],
   "source": [
    "# 차트로 확인\n",
    "plt.xlim(-3, 5)               \n",
    "plt.ylim(-3, 5)\n",
    "plt.grid(True)\n",
    "\n",
    "# 기준점(0,0)에서 각 벡터를 선으로 표시\n",
    "plt.annotate('',xy=a, xytext=(0,0), arrowprops=dict(facecolor='black'))\n",
    "plt.annotate('',xy=b, xytext=(0,0), arrowprops=dict(facecolor='black'))\n",
    "plt.annotate('',xy=a, xytext=b, arrowprops=dict(facecolor='red'))\n",
    "\n",
    "# 각 벡터에 점을 표시\n",
    "plt.plot(0,0,'bo',ms=10) \n",
    "plt.plot(a[0],a[1],'ro',ms=10) \n",
    "plt.plot(b[0],b[1],'ro',ms=10) \n"
   ]
  },
  {
   "cell_type": "markdown",
   "metadata": {},
   "source": [
    "## Word2Vec\n",
    "\n",
    "나중에 인공신경망 부분에서 공부하게 될 word2vec 방법을 이용하면 단어(word)를 공간상의 점 또는 벡터(vector)로 표현할 수 있다. \n",
    "\n",
    "word2vec으로 만들어진 벡터는 단어의 의미에 따라 다음처럼 평행사변형 관계를 가질 수도 있다.\n",
    "\n",
    "woman=man+(queen−king)\n",
    " \n",
    "queen - king은 king에서 queen으로 향하는 벡터이다. 즉 의미론적으로 king에서 국가 최고 권력자라는 의미는 남겨둔 채로 여성성을 추가하는 행위(action)에 비유할 수 있다. 이러한 행위를 man에 대해서 적용한 결과가 man + (queen - king)이다. word2vec 학습 결과에서 이렇게 계산한 위치에 가장 가까이 있는 단어를 찾으면 woman이 나온다.\n",
    "\n",
    "\n",
    "\n",
    "\n",
    "밑에 예문은 데이타 사이언스 스쿨의 word2vec에 예문이다.\n",
    "\n",
    "https://datascienceschool.net/view-notebook/dd1680bfbaab414a8d54dc978c6e883a/"
   ]
  },
  {
   "cell_type": "code",
   "execution_count": 7,
   "metadata": {},
   "outputs": [
    {
     "data": {
      "text/plain": [
       "(-0.6, 5.8)"
      ]
     },
     "execution_count": 7,
     "metadata": {},
     "output_type": "execute_result"
    },
    {
     "data": {
      "image/png": "[encoded data removed]",
      "text/plain": [
       "<Figure size 432x288 with 1 Axes>"
      ]
     },
     "metadata": {
      "needs_background": "light"
     },
     "output_type": "display_data"
    }
   ],
   "source": [
    "a = np.array([2, 2])  # king\n",
    "b = np.array([3, 4])  # queen\n",
    "c = np.array([4, 1])  # man\n",
    "d = a + (c - a)\n",
    "e = b + (c - a)\n",
    "plt.annotate('', xy=b, xytext=a, arrowprops=dict(facecolor='black'))\n",
    "plt.annotate('', xy=e, xytext=d, arrowprops=dict(facecolor='black'))\n",
    "plt.annotate('', xy=c, xytext=[0, 0], arrowprops=dict(facecolor='lightgray'))\n",
    "plt.plot(0, 0, 'kP', ms=10)\n",
    "plt.plot(a[0], a[1], 'ro', ms=10)\n",
    "plt.plot(b[0], b[1], 'ro', ms=10)\n",
    "plt.plot(c[0], c[1], 'ro', ms=10)\n",
    "plt.text(1.6, 1.5, \"$king$\")\n",
    "plt.text(2.5, 4.3, \"$queen$\")\n",
    "plt.text(3.5, 0.5, \"$man$\")\n",
    "plt.text(4.9, 3.2, \"$woman$\")\n",
    "plt.xticks(np.arange(-2, 7))\n",
    "plt.yticks(np.arange(-1, 6))\n",
    "plt.xlim(-1.4, 6.4)\n",
    "plt.ylim(-0.6, 5.8)"
   ]
  },
  {
   "cell_type": "code",
   "execution_count": null,
   "metadata": {},
   "outputs": [],
   "source": []
  }
 ],
 "metadata": {
  "kernelspec": {
   "display_name": "Python 3",
   "language": "python",
   "name": "python3"
  },
  "language_info": {
   "codemirror_mode": {
    "name": "ipython",
    "version": 3
   },
   "file_extension": ".py",
   "mimetype": "text/x-python",
   "name": "python",
   "nbconvert_exporter": "python",
   "pygments_lexer": "ipython3",
   "version": "3.7.3"
  }
 },
 "nbformat": 4,
 "nbformat_minor": 2
}
