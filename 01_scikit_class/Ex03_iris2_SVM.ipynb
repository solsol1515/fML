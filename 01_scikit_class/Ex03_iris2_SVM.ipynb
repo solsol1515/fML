{
 "cells": [
  {
   "cell_type": "markdown",
   "metadata": {},
   "source": [
    " # * sklearn 라이브러리에서 간단한 분류 모델\n",
    "\n",
    "\n",
    "## - SVM ( Support Vector Machine )\n",
    "  \n",
    "\n",
    "* svm(서포트벡터머신:분류, 회귀) 알고리즘 : 분류(SVC), 회귀(SVR)\n",
    "\t\t- fit() : 학습기계에 데이터를 학습시키는 메소드\n",
    "\t\t- predict() : 데이터를 넣고 예측하는 메소드\n",
    "\t\t- metrics.accuracy_score() : 정확도 측정 (검증)\n",
    "\n",
    "<img src='./imgs/svm.png' width='500' height='380'>\n",
    "\n",
    "    \n",
    "\n",
    "----------------------------------------------------\n",
    "\n",
    "### + 사용알고리즘 SVC ( 분류 )\n",
    "\n",
    "    from sklearn import svm\n",
    "\n",
    "    model = svm.SVC()\n",
    "\n",
    "    * 매개변수\n",
    "    \n",
    "        1) gamma\n",
    "            - 데이터포인트 사이의 거리는 가우시안 커널에 의해 계산되는데, 가우시안 커널의 폭을 제어하는 매개변수    \n",
    "            - 하나의 훈련 샘들이 미치는 영향의 범위를 결정\n",
    "            - gamma값이 크면 모델이 더 복잡해진다\n",
    "        2) C\n",
    "            - 각 포인트의 중요도를 제한\n",
    "            \n",
    "---            \n",
    "            \n",
    "### + 머신러닝 프로그램 절차\n",
    "\n",
    "    (1) 데이타 읽기\n",
    "    \n",
    "    (2) 데이터와 레이블 분리 변수 선언 - 데이타와 타켓(레이블)\n",
    "         * 데이타 분리 (열)\n",
    "        \n",
    "    (3) 학습데이타와 검증 데이타 분류 - train_test_split()\n",
    "         * 데이타 분리 (행)\n",
    "    \n",
    "    (4) 알고리즘 적용하여  학습 - fit()\n",
    "    \n",
    "    (5) 예측 - predict()\n",
    "    \n",
    "    (6) 정확도 - accuracy_score()\n",
    "    \n",
    "    (7) 검증하기 - score()"
   ]
  },
  {
   "cell_type": "code",
   "execution_count": 1,
   "metadata": {},
   "outputs": [],
   "source": [
    "import pandas as pd\n",
    "\n",
    "from sklearn import datasets\n",
    "from sklearn import svm, metrics\n",
    "from sklearn.model_selection import train_test_split"
   ]
  },
  {
   "cell_type": "code",
   "execution_count": 2,
   "metadata": {},
   "outputs": [],
   "source": [
    "#  1. 데이타로딩\n",
    "iris = datasets.load_iris()\n",
    "\n",
    "# 2. 데이터와 레이블 분리 변수 선언\n",
    "X= iris.data\n",
    "y= iris.target"
   ]
  },
  {
   "cell_type": "code",
   "execution_count": 5,
   "metadata": {},
   "outputs": [],
   "source": [
    "# 3. 데이터셋 분리 ( 학습데이타:검증데이타 = 7:3 )\n",
    "X_train, X_test, y_train, y_test = train_test_split(X, y, test_size=0.3, random_state=0) \n"
   ]
  },
  {
   "cell_type": "code",
   "execution_count": 8,
   "metadata": {},
   "outputs": [
    {
     "name": "stdout",
     "output_type": "stream",
     "text": [
      "0.9777777777777777\n",
      "학습 정확도: 0.9714285714285714\n",
      "테스트 정확도: 0.9777777777777777\n"
     ]
    }
   ],
   "source": [
    "# 4. 알고리즘 데이터를 학습시키고 예측하기 ( 테스트 데이타로 예측 )\n",
    "\n",
    "model = svm.SVC()\n",
    "\n",
    "model.fit(X_train, y_train)   # 훈련 데이터, 훈련값\n",
    "\n",
    "\n",
    "# 5. 예측하기 (테스트 데이터 넣어서 예측하기)\n",
    "y_predict = model.predict(X_test)\n",
    "\n",
    "# 6. 정확도 ( 예측값과 테스트라벨의 차이 : metrics.accuracy_score() )\n",
    "print(metrics.accuracy_score(y_test, y_predict))\n",
    "\n",
    "\n",
    "# 7. 검증하기 (score)\n",
    "print('학습 정확도:',model.score(X_train, y_train))\n",
    "print('테스트 정확도:',model.score(X_test, y_test))\n"
   ]
  },
  {
   "cell_type": "markdown",
   "metadata": {},
   "source": [
    "---\n",
    "---\n",
    "\n",
    "\n",
    "# [참고만] 일반 데이타셋인 경우  \n",
    "\n",
    "#### 학습데이타와 테스트데이타로 나누고 데이타 분리한다면\n",
    "\n",
    "###   ## train_test_split 함수 사용하지 않는 경우"
   ]
  },
  {
   "cell_type": "code",
   "execution_count": null,
   "metadata": {},
   "outputs": [],
   "source": [
    "from sklearn import svm, metrics\n",
    "import random, re   # re : 정규표현식\n",
    "\n",
    "# 1. 붓꽃 데이터 읽어 들이기\n",
    "csv = []\n",
    "\n",
    "with open('../data/iris/iris.csv','r', encoding='utf-8') as fp: \n",
    "\t# iris.csv 파일을 r(읽기모드)로 열다\n",
    "\tfor line in fp: # 한 줄씩 읽어오기\n",
    "\t\tline = line.strip()   # 줄바꿈 제거\n",
    "\t\tcols = line.split(',')# 쉼표로 컬럼을 구분\n",
    "\n",
    "\t\t# 문자열 데이터를 숫자(실수)로 변환하기\n",
    "        # 파이썬의 삼항연산자\n",
    "        # (값)=(True일 때의 값) if (조건) else (False일 때의 값)\n",
    "        \n",
    "\t\tfn = lambda n:float(n) if re.match(r'^[0-9\\.]+$',n) else n\n",
    "\t\tcols = list(map(fn, cols))\n",
    "\t\tcsv.append(cols)\n",
    "\t\t# 추후에 pandas로 간편하게 데이타셋 읽어올 수 있음\n",
    "\n",
    "\n",
    "# 헤더(컬럼명) 제거\n",
    "del csv[0]\n",
    "\n",
    "# 품종별로 데이타 순서로 있기에 학습데이타와 테스트데이타를 나누기 전에 섞는다\n",
    "# 그래야 각각의 데이타에 품종별로 골로루 데이타가 들어가도록\n",
    "random.shuffle(csv)\n",
    "\n",
    "# 학습데이타와 테스트 데이터로 분리하기\n",
    "total_len = len(csv)\n",
    "train_len = int(total_len*2/3) # 학습데이타 2/3, 테스트데이터 1/3\n",
    "\n",
    "train_data=[]\n",
    "train_label=[]\n",
    "\n",
    "test_data=[]\n",
    "test_label=[]\n",
    "\n",
    "\n",
    "for i in range(total_len):\n",
    "\tdata=csv[i][0:4]\n",
    "\tlabel=csv[i][4]\n",
    "\tif i < train_len:\n",
    "\t\ttrain_data.append(data)\n",
    "\t\ttrain_label.append(label)\n",
    "\telse:\n",
    "\t\ttest_data.append(data)\n",
    "\t\ttest_label.append(label)\n",
    "\n",
    "print(train_data[:10])\n",
    "print(train_label[:10])\n",
    "print(test_data[:10])\n",
    "print(test_label[:10])"
   ]
  },
  {
   "cell_type": "code",
   "execution_count": null,
   "metadata": {},
   "outputs": [],
   "source": [
    "# 분류모델을 이용하여 학습데이타를 넣고 훈련하고 예측한다\n",
    "clf = svm.SVC(gamma='auto') \n",
    "clf.fit(train_data, train_label)   # 학습하기\n",
    "\n",
    "pre_label = clf.predict(test_data) # 예측하기\n",
    "\n",
    "# 검증하기 - 정확도 \n",
    "ac_score = metrics.accuracy_score(test_label, pre_label)\n",
    "print(ac_score)"
   ]
  },
  {
   "cell_type": "code",
   "execution_count": null,
   "metadata": {},
   "outputs": [],
   "source": []
  }
 ],
 "metadata": {
  "kernelspec": {
   "display_name": "Python 3 (ipykernel)",
   "language": "python",
   "name": "python3"
  },
  "language_info": {
   "codemirror_mode": {
    "name": "ipython",
    "version": 3
   },
   "file_extension": ".py",
   "mimetype": "text/x-python",
   "name": "python",
   "nbconvert_exporter": "python",
   "pygments_lexer": "ipython3",
   "version": "3.9.13"
  }
 },
 "nbformat": 4,
 "nbformat_minor": 2
}
