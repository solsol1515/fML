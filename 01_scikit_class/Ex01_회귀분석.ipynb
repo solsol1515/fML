{
 "cells": [
  {
   "cell_type": "markdown",
   "metadata": {},
   "source": [
    "## 회귀분석 (Regression)\n",
    "\n",
    "\n",
    "- 독립변수(X)와 종속변수(Y)의 관계식에서\n",
    "  독립변수가 한 단위 증가할 때 종속변수가 얼마나 영향을 받는지 분석\n",
    "  \n",
    "\n",
    "[예] 연속형변수와 연속형 변수를 비교할 때\n",
    "\n",
    "\n",
    "- 나이(X)가 많을 수록 소득(Y)가 높은지 분석\n",
    "- 광고지불비(X)에 따라 판매량이 영향을 받는지 분석\n",
    "- 가계 수입과 사교육비 지출 사이에 관계가 있는지 분석\n",
    "\n",
    "\n",
    "\n",
    "[참고그림] '모두의 딥러닝' 교재에서\n",
    "\n",
    "<img src='./imgs/regression1.png' width='500'>\n",
    "<img src='./imgs/regression2.png' width='500'>\n",
    "<img src='./imgs/regression3.png' width='500'>\n",
    "\n",
    "** 회귀분석 종류\n",
    "\n",
    "1) 단순회귀 분석 : 독립변수가 1개\n",
    "        \n",
    "        ` 광고지불비(X)를 이용하여 상품 매출액(Y) 예측할 때\n",
    "        \n",
    "2) 다중회귀 분석 : 독립변수가 2개 이상\n",
    "       \n",
    "       ` 어린이 연령(X1)과 하루 평균 학습시간(X2)를 이용하여 그 어린이의 성적(Y)을 예측하고자 할 때\n",
    "\n"
   ]
  },
  {
   "cell_type": "markdown",
   "metadata": {},
   "source": [
    "---\n",
    "#### 앞에서는   scipy 의 선형회귀를 이용하고 아래는 sklearn의 머신러닝 종류 중 선형회귀 모델 사용\n",
    "\n",
    "---\n",
    "\n",
    "## 회귀분석 예제 - 보스턴 주택가격\n",
    "\n",
    "\n",
    "\n",
    "#### [ 절차 ]\n",
    "    (1) 데이타 읽어오기\n",
    "\n",
    "    (2) 데이터와 레이블 분리 변수 선언\n",
    "\n",
    "    (3) 훈련데이터와 테스트 데이터로 분리하기\n",
    "\n",
    "    (4) 모델로 학습하기\n",
    "\n",
    "    (5) 검증하기"
   ]
  },
  {
   "cell_type": "code",
   "execution_count": null,
   "metadata": {},
   "outputs": [],
   "source": []
  },
  {
   "cell_type": "code",
   "execution_count": null,
   "metadata": {},
   "outputs": [],
   "source": [
    "\n",
    "# 보스턴 주택가격 데이터셋\n",
    "from sklearn.datasets import load_boston\n",
    "\n",
    "# 회귀분석을 위한 패키기\n",
    "from sklearn.linear_model import LinearRegression\n",
    "\n",
    "# 학습용, 검증용 데이터를 나누기 위한 패키기\n",
    "from sklearn.model_selection import train_test_split"
   ]
  },
  {
   "cell_type": "code",
   "execution_count": null,
   "metadata": {},
   "outputs": [],
   "source": []
  },
  {
   "cell_type": "markdown",
   "metadata": {},
   "source": [
    "속성정보:\n",
    "\n",
    "    - CRIM     인구 1인당 범죄 수\n",
    "    - ZN       25000평방 피트 이상의 주거 구역 비중\n",
    "    - INDUS    소매업 외 상업이 차지하는 면접 비율\n",
    "    - CHAS     찰스강 위치 변수 (1: 강주변, 0:이외 )\n",
    "    - NOX      일산화질소 농도 (parts per 10 million)\n",
    "    - RM       집의 평균 방수\n",
    "    - AGE      1940년 이전에 지어진 비율\n",
    "    - DIS      5가지 보스턴 시 고용 시설까지의 거리\n",
    "    - RAD      순환고속도로의 접근 용이성\n",
    "    - TAX      $10000 달러당 부동산 세율 총계\n",
    "    - PTRATIO  지역별 학생과 교사 비율\n",
    "    - B        지역별 흑인 비율\n",
    "    - LSTAT    급여가 낮은 직업에 종사하는 인구 비율(%)\n",
    "    \n",
    "    \n",
    "    - MEDV     가격단위($1000)"
   ]
  }
 ],
 "metadata": {
  "kernelspec": {
   "display_name": "Python 3",
   "language": "python",
   "name": "python3"
  },
  "language_info": {
   "codemirror_mode": {
    "name": "ipython",
    "version": 3
   },
   "file_extension": ".py",
   "mimetype": "text/x-python",
   "name": "python",
   "nbconvert_exporter": "python",
   "pygments_lexer": "ipython3",
   "version": "3.8.8"
  }
 },
 "nbformat": 4,
 "nbformat_minor": 2
}
