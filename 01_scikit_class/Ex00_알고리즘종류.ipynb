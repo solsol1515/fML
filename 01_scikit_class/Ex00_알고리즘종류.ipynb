{
 "cells": [
  {
   "cell_type": "markdown",
   "id": "d52d186b",
   "metadata": {},
   "source": [
    "# 알고리즘 선택하기 - algorithm cheat sheet참고\n",
    "\n",
    "  [알고리즘찾는 기준](https://scikit-learn.org/stable/tutorial/machine_learning_map/)\n",
    "    \n",
    "    \n",
    "       [예] start =>\n",
    "         [ >50 samples ] : 50개 미만이지만 무시하고 다음 단계로\n",
    "         [ predicing a category (카테고리 예측) ] -> YES\n",
    "         [ Do you have labeled data (레이블(결과) 있는 데이타) ] -> YES\n",
    "         [ <100K samples (10만개 이하) ] ->  YES\n",
    "         => LieanrSVC 사용\n",
    "         \n",
    " \n",
    " \n",
    "\n",
    "#### [ 절차 ] \n",
    "\n",
    "    (1) 데이타 읽어오기\n",
    "\n",
    "    (2) 데이터와 레이블 분리 변수 선언\n",
    "\n",
    "    (3) 훈련데이터와 테스트 데이터로 분리하기\n",
    "\n",
    "    (4) 모델로 학습하기\n",
    "\n",
    "    (5) 검증하기\n",
    "         "
   ]
  }
 ],
 "metadata": {
  "kernelspec": {
   "display_name": "Python 3 (ipykernel)",
   "language": "python",
   "name": "python3"
  },
  "language_info": {
   "codemirror_mode": {
    "name": "ipython",
    "version": 3
   },
   "file_extension": ".py",
   "mimetype": "text/x-python",
   "name": "python",
   "nbconvert_exporter": "python",
   "pygments_lexer": "ipython3",
   "version": "3.9.7"
  }
 },
 "nbformat": 4,
 "nbformat_minor": 5
}
