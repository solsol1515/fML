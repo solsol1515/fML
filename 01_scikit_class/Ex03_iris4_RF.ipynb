{
 "cells": [
  {
   "cell_type": "markdown",
   "metadata": {},
   "source": [
    " ## 랜덤포레스트 : 결정트리(Decision Tree)의 앙상블(ensemble)\n",
    "     \n",
    "+ 앙상블(ensemble) : 머신러닝 모델을 연결하여 더 강력한 모델을 만드는 기법\n",
    "    \n",
    "+ DecisionTree의 주요 단점인 훈련 데이터에 과대적합되는 경향이 있다는 문제를 여러 결정 트리를 많이 만들어 그 결과를 평균냄으로써 과대적합된 양을 줄여서 회피한다. \n",
    "    \n",
    "+ 학습데이타를 기반으로 다수의 의사결정트리를 만들고, 만들어진 의사결정트리를 기반으로 다수결로 결과를 유도하는 방식으로 정밀도가 높은 알고리즘이다.\n",
    "    \n",
    "\n",
    "\n",
    "<img src='./imgs/RF.png'>\n",
    "\n"
   ]
  },
  {
   "cell_type": "markdown",
   "metadata": {},
   "source": [
    "\n",
    "---\n",
    "##  [ 힌트 ]  기존의 모델했던 예제에서 모델링만 변경하면 된다\n",
    "\n",
    "\n",
    "from sklearn.ensemble import RandomForestClassifier\n",
    "\n",
    "clf = RandomForestClassifier(n_estimators=100)\n",
    "\n",
    "- 매개변수\n",
    "- n_estimators : 랜덤포레스트 모델을 만들 때 생성할 트리의 갯수\n",
    "- random_state : 램덤 시드값으로 같은 결과를 만들려면 random_state 값을 고정한다.\n",
    "- 그러나 랜덤포레스트의 트리가 많을수록 random_state 값의 변화에 따른 변동이 적다\n",
    "\n",
    "\n",
    "---"
   ]
  },
  {
   "cell_type": "code",
   "execution_count": null,
   "metadata": {},
   "outputs": [],
   "source": [
    "import pandas as pd\n",
    "from sklearn import svm, metrics\n",
    "from sklearn.model_selection import train_test_split\n",
    "\n",
    "from sklearn.ensemble import RandomForestClassifier\n",
    "\n",
    "# (1) 데이타 읽어오기 (pandas 이용)\n",
    "csv = pd.read_csv('../data/iris/iris.csv')\n",
    "print(csv[:10]) # 컬럼명이 0번째 레코드(샘플)과 분리되어 있음\n",
    "\n",
    "# (2) 데이터와 레이블 분리 변수 선언 (실제 iris.csv 파일 컬럼명 확인)\n",
    "csv_data = csv[['sepal.length','sepal.width','petal.length','petal.width']]\n",
    "csv_label = csv['variety']\n",
    "print(csv_data.head())\n",
    "print(csv_label.head())\n",
    "\n",
    "# (3) 훈련데이터와 테스트 데이터로 분리하기\n",
    "\n",
    "\n",
    "# (4) 분류모델로 학습하기\n",
    "#     예를 들면, clf = svm.SVC(gamma='auto')  이렇게 학습 모델 지정하기\n",
    "\n",
    "\n",
    "# (5) 검증하기\n",
    "\n",
    "\n",
    "# (6) 예측하기\n",
    "\n",
    "\n"
   ]
  },
  {
   "cell_type": "markdown",
   "metadata": {},
   "source": [
    "[사이킷런 패키지에서 지원하는 분류 성능평가 명령](https://datascienceschool.net/03%20machine%20learning/09.04%20%EB%B6%84%EB%A5%98%20%EC%84%B1%EB%8A%A5%ED%8F%89%EA%B0%80.html)\n",
    "   \n",
    "      precision   : 정밀도 \n",
    "      recall  : 재현율\n",
    "      f1-score: f점수\n",
    "      "
   ]
  },
  {
   "cell_type": "markdown",
   "metadata": {},
   "source": [
    "### 새로운 데이타를 예측\n",
    "\n",
    "\n",
    "import numpy as np\n",
    "\n",
    "newdata = np.array([[4.5, 4.0, 1.5, 0.5]])\n",
    "\n",
    "\n",
    "pred = clf.predict(newdata)\n",
    "\n",
    "print(pred)"
   ]
  },
  {
   "cell_type": "code",
   "execution_count": null,
   "metadata": {},
   "outputs": [],
   "source": []
  }
 ],
 "metadata": {
  "kernelspec": {
   "display_name": "Python 3",
   "language": "python",
   "name": "python3"
  },
  "language_info": {
   "codemirror_mode": {
    "name": "ipython",
    "version": 3
   },
   "file_extension": ".py",
   "mimetype": "text/x-python",
   "name": "python",
   "nbconvert_exporter": "python",
   "pygments_lexer": "ipython3",
   "version": "3.8.8"
  }
 },
 "nbformat": 4,
 "nbformat_minor": 2
}
