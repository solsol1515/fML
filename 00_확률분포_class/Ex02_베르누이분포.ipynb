{
 "cells": [
  {
   "cell_type": "markdown",
   "metadata": {},
   "source": [
    "### 베르누이 분포\n",
    "\n",
    "- 베르누이 시도(Bernoulli trial) : 결과가 성공 또는 실패 두가지 중 하나로만 나오는 경우\n",
    "- ( 동전을 던져서 앞이나 뒤가 나오는 경우 )\n",
    "- 베르누이 시도 결과를 확률변수(random variable) X로 나타낼 때는 성공 1, 실패 0으로 주로 지정한다.\n",
    "- ( 베르누이 확률 변수는 0, 1 중 하나만 가질 수 있는 이산 확률변수이다 )\n",
    "\n",
    "\n",
    "* [대표적인 예] 동전을 던졌을 때의 확률 분포\n"
   ]
  },
  {
   "cell_type": "code",
   "execution_count": 1,
   "metadata": {},
   "outputs": [],
   "source": [
    "%matplotlib inline\n",
    "\n",
    "# import scipy as sp\n",
    "from scipy import stats\n",
    "import matplotlib.pyplot as plt"
   ]
  },
  {
   "cell_type": "code",
   "execution_count": 2,
   "metadata": {},
   "outputs": [],
   "source": [
    "# theta : 1이 나올 확률 (즉, 성공할 확률)\n",
    "theta = 0.6  \n",
    "rv = stats.bernoulli(theta)"
   ]
  },
  {
   "cell_type": "code",
   "execution_count": 3,
   "metadata": {},
   "outputs": [
    {
     "data": {
      "text/plain": [
       "([<matplotlib.axis.XTick at 0x1e42a6d4df0>,\n",
       "  <matplotlib.axis.XTick at 0x1e42a6d4dc0>],\n",
       " [Text(0, 0, 'X=0(fail)'), Text(1, 0, 'X=1(success)')])"
      ]
     },
     "execution_count": 3,
     "metadata": {},
     "output_type": "execute_result"
    },
    {
     "data": {
      "image/png": "[encoded data removed]",
      "text/plain": [
       "<Figure size 432x288 with 1 Axes>"
      ]
     },
     "metadata": {
      "needs_background": "light"
     },
     "output_type": "display_data"
    }
   ],
   "source": [
    "xx = [0,1]\n",
    "plt.bar(xx, rv.pmf(xx))  # pmf : 확률 질량 메소드\n",
    "plt.xlim(-1, 2)\n",
    "plt.ylim(0, 1)\n",
    "plt.xticks([0,1],[\"X=0(fail)\",\"X=1(success)\"])\n",
    "\n",
    "# [결과] 성공 0.6, 실패 0.4"
   ]
  },
  {
   "cell_type": "code",
   "execution_count": 4,
   "metadata": {
    "scrolled": true
   },
   "outputs": [
    {
     "name": "stdout",
     "output_type": "stream",
     "text": [
      "[1 0 0 1 1 0 1 0 0 1 0 1 1 0 1 1 1 0 0 0 0 0 1 0 1 0 1 0 1 1 1 0 1 1 1 0 0\n",
      " 0 0 0 1 1 0 1 0 0 1 1 1 1 1 1 0 1 1 1 0 1 1 1 1 1 0 1 1 1 0 1 0 1 0 1 0 0\n",
      " 0 1 1 1 1 1 1 1 1 0 1 1 1 1 1 0 1 0 1 0 1 1 1 1 0 1]\n"
     ]
    },
    {
     "name": "stderr",
     "output_type": "stream",
     "text": [
      "C:\\Users\\simmi\\anaconda3\\lib\\site-packages\\seaborn\\_decorators.py:36: FutureWarning: Pass the following variable as a keyword arg: x. From version 0.12, the only valid positional argument will be `data`, and passing other arguments without an explicit keyword will result in an error or misinterpretation.\n",
      "  warnings.warn(\n"
     ]
    },
    {
     "data": {
      "image/png": "[encoded data removed]",
      "text/plain": [
       "<Figure size 432x288 with 1 Axes>"
      ]
     },
     "metadata": {
      "needs_background": "light"
     },
     "output_type": "display_data"
    }
   ],
   "source": [
    "# 베르누이 분포 시뮬레이션 \n",
    "x = rv.rvs(100, random_state=0) # rvs() : 램덤 샘플 생성 (random variable sampling)\n",
    "print(x)\n",
    "\n",
    "import seaborn as sns\n",
    "sns.countplot(x)\n",
    "plt.grid(True)\n",
    "# [결과] 0이 38개 1이 62개"
   ]
  },
  {
   "cell_type": "code",
   "execution_count": 5,
   "metadata": {},
   "outputs": [
    {
     "name": "stdout",
     "output_type": "stream",
     "text": [
      "   Theary  Simulation\n",
      "0     0.4        0.38\n",
      "1     0.6        0.62\n"
     ]
    }
   ],
   "source": [
    "# 위의 이론과 시뮬레이션을 비교하기 위해\n",
    "\n",
    "import numpy as np\n",
    "import pandas as pd\n",
    "\n",
    "y = np.bincount(x, minlength=2) / float(len(x))\n",
    "df = pd.DataFrame({\"Theary\": rv.pmf(xx), \"Simulation\": y})\n",
    "df.index = [0, 1]\n",
    "print(df)"
   ]
  },
  {
   "cell_type": "code",
   "execution_count": 6,
   "metadata": {},
   "outputs": [
    {
     "name": "stdout",
     "output_type": "stream",
     "text": [
      "   sample value        type     %\n",
      "0             0      Theary  0.40\n",
      "1             0  Simulation  0.38\n",
      "2             1      Theary  0.60\n",
      "3             1  Simulation  0.62\n"
     ]
    },
    {
     "data": {
      "text/plain": [
       "<AxesSubplot:xlabel='sample value', ylabel='%'>"
      ]
     },
     "execution_count": 6,
     "metadata": {},
     "output_type": "execute_result"
    },
    {
     "data": {
      "image/png": "[encoded data removed]",
      "text/plain": [
       "<Figure size 432x288 with 1 Axes>"
      ]
     },
     "metadata": {
      "needs_background": "light"
     },
     "output_type": "display_data"
    }
   ],
   "source": [
    "# 더 쉽게 비교하기 위해\n",
    "re_df = df.stack().reset_index()\n",
    "re_df.columns = ['sample value', 'type', '%']\n",
    "print(re_df)\n",
    "\n",
    "sns.barplot(x='sample value', y='%', hue='type', data=re_df)"
   ]
  },
  {
   "cell_type": "code",
   "execution_count": 7,
   "metadata": {},
   "outputs": [
    {
     "name": "stdout",
     "output_type": "stream",
     "text": [
      "   type  speed\n",
      "aa    A  300.0\n",
      "bb    B   25.0\n",
      "cc    C   99.0\n",
      "dd    D    NaN\n"
     ]
    },
    {
     "data": {
      "text/html": [
       "<div>\n",
       "<style scoped>\n",
       "    .dataframe tbody tr th:only-of-type {\n",
       "        vertical-align: middle;\n",
       "    }\n",
       "\n",
       "    .dataframe tbody tr th {\n",
       "        vertical-align: top;\n",
       "    }\n",
       "\n",
       "    .dataframe thead th {\n",
       "        text-align: right;\n",
       "    }\n",
       "</style>\n",
       "<table border=\"1\" class=\"dataframe\">\n",
       "  <thead>\n",
       "    <tr style=\"text-align: right;\">\n",
       "      <th></th>\n",
       "      <th>type</th>\n",
       "      <th>speed</th>\n",
       "    </tr>\n",
       "  </thead>\n",
       "  <tbody>\n",
       "    <tr>\n",
       "      <th>0</th>\n",
       "      <td>A</td>\n",
       "      <td>300.0</td>\n",
       "    </tr>\n",
       "    <tr>\n",
       "      <th>1</th>\n",
       "      <td>B</td>\n",
       "      <td>25.0</td>\n",
       "    </tr>\n",
       "    <tr>\n",
       "      <th>2</th>\n",
       "      <td>C</td>\n",
       "      <td>99.0</td>\n",
       "    </tr>\n",
       "    <tr>\n",
       "      <th>3</th>\n",
       "      <td>D</td>\n",
       "      <td>NaN</td>\n",
       "    </tr>\n",
       "  </tbody>\n",
       "</table>\n",
       "</div>"
      ],
      "text/plain": [
       "  type  speed\n",
       "0    A  300.0\n",
       "1    B   25.0\n",
       "2    C   99.0\n",
       "3    D    NaN"
      ]
     },
     "execution_count": 7,
     "metadata": {},
     "output_type": "execute_result"
    }
   ],
   "source": [
    "\"\"\"\n",
    "    ` stack() : 열인덱스를 행의 값으로 바꾸기\n",
    "    ` unstack() : 행인덱스를 열의 값으로 바꾸기\n",
    "\"\"\"\n",
    "\n",
    "# df0 = pd.DataFrame([[0,1],[2,3]], index=['AA','BB'], columns=['x value', 'y value'])\n",
    "# print(df0)\n",
    "# print(df0.stack())  # x value와 y value 열인덱스를 행으로 바꾸기\n",
    "# print(df0)\n",
    "# print(df0.unstack())\n",
    "\n",
    "\"\"\"    \n",
    "    ` reset_index() : 기존의 인덱스를 제거하고 그 값들을 하나의 열(column)의 값으로 추가하고 새로운 인덱스를 생성\n",
    "    ` set_index() : 기존의 행 인덱스를 제거하고 데이터 열 중 하나를 인덱스로 지정\n",
    "\n",
    "\"\"\"\n",
    "df0 = pd.DataFrame([('A', 300.0), ('B', 25.0), ('C', 99.0), ('D', np.NaN)],\n",
    "                   index=['aa','bb','cc','dd'],\n",
    "                   columns=('type', 'speed'))\n",
    "print(df0)\n",
    "df0.reset_index()\n",
    "df0.reset_index(drop=True)  # 기존의인덱스를 추가하지 않고 제거한다\n"
   ]
  }
 ],
 "metadata": {
  "kernelspec": {
   "display_name": "Python 3",
   "language": "python",
   "name": "python3"
  },
  "language_info": {
   "codemirror_mode": {
    "name": "ipython",
    "version": 3
   },
   "file_extension": ".py",
   "mimetype": "text/x-python",
   "name": "python",
   "nbconvert_exporter": "python",
   "pygments_lexer": "ipython3",
   "version": "3.8.5"
  }
 },
 "nbformat": 4,
 "nbformat_minor": 2
}
