{
 "cells": [
  {
   "cell_type": "markdown",
   "metadata": {},
   "source": [
    "### 카테고리 분포 (categorical distribution)\n",
    "\n",
    "- 베르누이 분포의 확장\n",
    "- 1부터 k까지의 k개의 정수 값 중 하나가 나오는 확률 변수의 분포\n",
    "- 대표적인 예 : 주사위를 던졌을 때의 확률분포\n",
    "\n",
    "[참고] 데이터 사이언스 스쿨 : https://datascienceschool.net/view-notebook/354eb1d0e307423697ed805df07b96a5/\n",
    "\n",
    "\n",
    "[참고] 다차원 벡터로 변형하여 사용 : 원-핫-인코딩(One-Hot-Encoding)\n",
    "\n",
    "        x=1 → x=(1,0,0,0,0,0)\n",
    "        x=2 → x=(0,1,0,0,0,0)\n",
    "        x=3 → x=(0,0,1,0,0,0)\n",
    "        x=4 → x=(0,0,0,1,0,0)\n",
    "        x=5 → x=(0,0,0,0,1,0)\n",
    "        x=6 → x=(0,0,0,0,0,1)\n"
   ]
  },
  {
   "cell_type": "code",
   "execution_count": 19,
   "metadata": {},
   "outputs": [],
   "source": [
    "\"\"\" scipy를 이용한 카테고리 분포 시뮬레이션 \n",
    "\n",
    "    - scipy에서는 카테고리 분포 클래스 제공 없음\n",
    "    - 다항 분포를 위한 클래스 multinomial을 이용하여 카테고리 분포 객체 생성 가능\n",
    "      (multinomial 클래스에서 시행횟수를 1로 설정)\n",
    "\"\"\"\n",
    "\n",
    "import scipy as sp\n",
    "import numpy as np\n",
    "import matplotlib.pyplot as plt\n",
    "import seaborn as sns\n",
    "import pandas as pd"
   ]
  },
  {
   "cell_type": "code",
   "execution_count": 30,
   "metadata": {
    "scrolled": true
   },
   "outputs": [
    {
     "name": "stdout",
     "output_type": "stream",
     "text": [
      "[0.16666667 0.16666667 0.16666667 0.16666667 0.16666667 0.16666667]\n",
      "[1 2 3 4 5 6]\n",
      "   1  2  3  4  5  6\n",
      "0  1  0  0  0  0  0\n",
      "1  0  1  0  0  0  0\n",
      "2  0  0  1  0  0  0\n",
      "3  0  0  0  1  0  0\n",
      "4  0  0  0  0  1  0\n",
      "5  0  0  0  0  0  1\n"
     ]
    },
    {
     "data": {
      "text/plain": [
       "'\\n    get_dummies()는 One-Hot-Encoding 방식을 만들 때 사용\\n'"
      ]
     },
     "execution_count": 30,
     "metadata": {},
     "output_type": "execute_result"
    }
   ],
   "source": [
    "theta = np.array([1/6]*6) # 1/6의 수 6개\n",
    "print(theta)\n",
    "rv = sp.stats.multinomial(1, theta)\n",
    "\n",
    "xx = np.arange(1,7) # 1부터 6까지\n",
    "print(xx)\n",
    "xx_ohe = pd.get_dummies(xx)\n",
    "print(xx_ohe)\n",
    "\"\"\"\n",
    "    get_dummies()는 One-Hot-Encoding 방식을 만들 때 사용\n",
    "\"\"\""
   ]
  },
  {
   "cell_type": "code",
   "execution_count": 23,
   "metadata": {},
   "outputs": [
    {
     "data": {
      "text/plain": [
       "Text(0.5, 1.0, 'pmf of Categorical Distribution')"
      ]
     },
     "execution_count": 23,
     "metadata": {},
     "output_type": "execute_result"
    },
    {
     "data": {
      "image/png": "[encoded data removed]",
      "text/plain": [
       "<Figure size 432x288 with 1 Axes>"
      ]
     },
     "metadata": {
      "needs_background": "light"
     },
     "output_type": "display_data"
    }
   ],
   "source": [
    "plt.bar(xx, rv.pmf(xx_ohe.values))\n",
    "plt.ylabel(\"P(x)\")\n",
    "plt.title(\"pmf of Categorical Distribution\")\n",
    "\n",
    "# [분석] 이론적으로 각각 주사위 번호가 나올 확률은 동일하다"
   ]
  },
  {
   "cell_type": "code",
   "execution_count": 27,
   "metadata": {},
   "outputs": [
    {
     "name": "stdout",
     "output_type": "stream",
     "text": [
      "[[0 0 0 0 0 1]\n",
      " [0 0 0 0 1 0]\n",
      " [0 0 0 1 0 0]\n",
      " [0 0 0 0 0 1]\n",
      " [0 1 0 0 0 0]\n",
      " [1 0 0 0 0 0]]\n"
     ]
    },
    {
     "data": {
      "text/plain": [
       "Text(0.5, 1.0, 'Simulation of Categorical Distribution')"
      ]
     },
     "execution_count": 27,
     "metadata": {},
     "output_type": "execute_result"
    },
    {
     "data": {
      "image/png": "[encoded data removed]",
      "text/plain": [
       "<Figure size 432x288 with 1 Axes>"
      ]
     },
     "metadata": {
      "needs_background": "light"
     },
     "output_type": "display_data"
    }
   ],
   "source": [
    "np.random.seed(1)\n",
    "X = rv.rvs(100)\n",
    "print(X[:6])  # 100개 샘플 중에서 6개의 데이타만 확인\n",
    "\n",
    "# [하나씩 확인한다면 ]\n",
    "# print(float(len(X)))\n",
    "# print(X.sum())\n",
    "# print(X.sum(axis=0))  # 열 단위로 합\n",
    "# print(X.sum(axis=1))  # 행 단위로 합\n",
    "\n",
    "y = X.sum(axis=0)/float(len(X))  # axis=0은 각 열단위 합 / 100 으로 나눔\n",
    "plt.bar(np.arange(1,7), y)\n",
    "plt.title('Simulation of Categorical Distribution')\n",
    "\n",
    "# X = rv.rvs(1000)으로 수정해서 샘플을 1000개 하면 균등하게 나온다\n",
    "# 즉 확률은 횟수가 많아질수록 균등해진다"
   ]
  },
  {
   "cell_type": "code",
   "execution_count": 28,
   "metadata": {},
   "outputs": [
    {
     "data": {
      "text/html": [
       "<div>\n",
       "<style scoped>\n",
       "    .dataframe tbody tr th:only-of-type {\n",
       "        vertical-align: middle;\n",
       "    }\n",
       "\n",
       "    .dataframe tbody tr th {\n",
       "        vertical-align: top;\n",
       "    }\n",
       "\n",
       "    .dataframe thead th {\n",
       "        text-align: right;\n",
       "    }\n",
       "</style>\n",
       "<table border=\"1\" class=\"dataframe\">\n",
       "  <thead>\n",
       "    <tr style=\"text-align: right;\">\n",
       "      <th></th>\n",
       "      <th>sample</th>\n",
       "      <th>type</th>\n",
       "      <th>%</th>\n",
       "    </tr>\n",
       "  </thead>\n",
       "  <tbody>\n",
       "    <tr>\n",
       "      <th>0</th>\n",
       "      <td>1</td>\n",
       "      <td>theory</td>\n",
       "      <td>0.166667</td>\n",
       "    </tr>\n",
       "    <tr>\n",
       "      <th>1</th>\n",
       "      <td>1</td>\n",
       "      <td>simulation</td>\n",
       "      <td>0.159000</td>\n",
       "    </tr>\n",
       "    <tr>\n",
       "      <th>2</th>\n",
       "      <td>2</td>\n",
       "      <td>theory</td>\n",
       "      <td>0.166667</td>\n",
       "    </tr>\n",
       "    <tr>\n",
       "      <th>3</th>\n",
       "      <td>2</td>\n",
       "      <td>simulation</td>\n",
       "      <td>0.178000</td>\n",
       "    </tr>\n",
       "    <tr>\n",
       "      <th>4</th>\n",
       "      <td>3</td>\n",
       "      <td>theory</td>\n",
       "      <td>0.166667</td>\n",
       "    </tr>\n",
       "    <tr>\n",
       "      <th>5</th>\n",
       "      <td>3</td>\n",
       "      <td>simulation</td>\n",
       "      <td>0.168000</td>\n",
       "    </tr>\n",
       "    <tr>\n",
       "      <th>6</th>\n",
       "      <td>4</td>\n",
       "      <td>theory</td>\n",
       "      <td>0.166667</td>\n",
       "    </tr>\n",
       "    <tr>\n",
       "      <th>7</th>\n",
       "      <td>4</td>\n",
       "      <td>simulation</td>\n",
       "      <td>0.172000</td>\n",
       "    </tr>\n",
       "    <tr>\n",
       "      <th>8</th>\n",
       "      <td>5</td>\n",
       "      <td>theory</td>\n",
       "      <td>0.166667</td>\n",
       "    </tr>\n",
       "    <tr>\n",
       "      <th>9</th>\n",
       "      <td>5</td>\n",
       "      <td>simulation</td>\n",
       "      <td>0.151000</td>\n",
       "    </tr>\n",
       "    <tr>\n",
       "      <th>10</th>\n",
       "      <td>6</td>\n",
       "      <td>theory</td>\n",
       "      <td>0.166667</td>\n",
       "    </tr>\n",
       "    <tr>\n",
       "      <th>11</th>\n",
       "      <td>6</td>\n",
       "      <td>simulation</td>\n",
       "      <td>0.172000</td>\n",
       "    </tr>\n",
       "  </tbody>\n",
       "</table>\n",
       "</div>"
      ],
      "text/plain": [
       "    sample        type         %\n",
       "0        1      theory  0.166667\n",
       "1        1  simulation  0.159000\n",
       "2        2      theory  0.166667\n",
       "3        2  simulation  0.178000\n",
       "4        3      theory  0.166667\n",
       "5        3  simulation  0.168000\n",
       "6        4      theory  0.166667\n",
       "7        4  simulation  0.172000\n",
       "8        5      theory  0.166667\n",
       "9        5  simulation  0.151000\n",
       "10       6      theory  0.166667\n",
       "11       6  simulation  0.172000"
      ]
     },
     "execution_count": 28,
     "metadata": {},
     "output_type": "execute_result"
    }
   ],
   "source": [
    "# 이론과 시뮬레이션 비교 \n",
    "df = pd.DataFrame({'theory': rv.pmf(xx_ohe.values), 'simulation': y },\n",
    "                 index=np.arange(1,7))\n",
    "df = df.stack().reset_index()\n",
    "df.columns = ['sample', 'type', '%']\n",
    "df.pivot('sample', 'type', '%')\n",
    "df"
   ]
  },
  {
   "cell_type": "code",
   "execution_count": 29,
   "metadata": {
    "scrolled": true
   },
   "outputs": [
    {
     "data": {
      "text/plain": [
       "<matplotlib.axes._subplots.AxesSubplot at 0x295ee6cc6a0>"
      ]
     },
     "execution_count": 29,
     "metadata": {},
     "output_type": "execute_result"
    },
    {
     "data": {
      "image/png": "[encoded data removed]",
      "text/plain": [
       "<Figure size 432x288 with 1 Axes>"
      ]
     },
     "metadata": {
      "needs_background": "light"
     },
     "output_type": "display_data"
    }
   ],
   "source": [
    "sns.barplot(x='sample', y='%', hue='type', data=df)\n",
    "\n",
    "# [분석] X = rv.rvs(1000)으로 수정해서 샘플을 1000개 하면 균등하게 나온다\n",
    "# 즉 확률은 횟수가 많아질수록 균등해진다"
   ]
  },
  {
   "cell_type": "code",
   "execution_count": 32,
   "metadata": {},
   "outputs": [
    {
     "data": {
      "text/plain": [
       "<matplotlib.axes._subplots.AxesSubplot at 0x295ee7669b0>"
      ]
     },
     "execution_count": 32,
     "metadata": {},
     "output_type": "execute_result"
    },
    {
     "data": {
      "image/png": "[encoded data removed]",
      "text/plain": [
       "<Figure size 432x288 with 1 Axes>"
      ]
     },
     "metadata": {
      "needs_background": "light"
     },
     "output_type": "display_data"
    }
   ],
   "source": [
    "# 모수를 각각 지정한다면\n",
    "eps = np.finfo(np.float).eps  # 부동 소숫점 중에서 가장 작은 양수의 값 : 거의 0에 가까운 정수\n",
    "theta = np.array([eps, eps, 0.2, 0.1, 0.4, 0.3])\n",
    "rv = sp.stats.multinomial(1, theta) # 카테고리분포는 시행횟수 n을 1로 지정\n",
    "\n",
    "X = rv.rvs(100, random_state=1) # 램덤시드값을 1로 하여 100개 샘플 실행\n",
    "y = X.sum(axis=0)/float(len(X))\n",
    "\n",
    "df = pd.DataFrame({'theory': rv.pmf(xx_ohe.values), 'simulation': y },\n",
    "                 index=np.arange(1,7))\n",
    "df = df.stack().reset_index()\n",
    "df.columns = ['sample', 'type', '%']\n",
    "sns.barplot(x='sample', y='%', hue='type', data=df)"
   ]
  }
 ],
 "metadata": {
  "kernelspec": {
   "display_name": "Python 3",
   "language": "python",
   "name": "python3"
  },
  "language_info": {
   "codemirror_mode": {
    "name": "ipython",
    "version": 3
   },
   "file_extension": ".py",
   "mimetype": "text/x-python",
   "name": "python",
   "nbconvert_exporter": "python",
   "pygments_lexer": "ipython3",
   "version": "3.7.6"
  }
 },
 "nbformat": 4,
 "nbformat_minor": 2
}
