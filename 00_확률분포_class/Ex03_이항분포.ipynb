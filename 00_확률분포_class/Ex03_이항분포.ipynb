{
 "cells": [
  {
   "cell_type": "markdown",
   "metadata": {},
   "source": [
    "### 이항분포 (binomial distribution)\n",
    "\n",
    "성공확률이  μ  인 베르누이 시도를  N 번 반복하는 경우를 생각해 보자. 가장 운이 좋을 때에는  N 번 모두 성공할 것이고 가장 운이 나쁜 경우에는 한 번도 성공하지 못할 겻이다.  N 번 중 성공한 횟수를 확률변수  X  라고 한다면  X 의 값은 0 부터  N  까지의 정수 중 하나가 될 것이다.\n",
    "\n",
    "[참고] 데이터 사이언스 스쿨\n",
    ": https://datascienceschool.net/view-notebook/ddb0f7906b6146e09f5c1e633b4fbe3a/"
   ]
  },
  {
   "cell_type": "code",
   "execution_count": 21,
   "metadata": {},
   "outputs": [],
   "source": [
    "\"\"\" Scipy를 이용한 이항 분포 시뮬레이션\n",
    "    \n",
    "    scipy 패키지의  binom 클래스가 이용\n",
    "\"\"\"\n",
    "import numpy as np\n",
    "import scipy as sp\n",
    "import matplotlib.pyplot as plt\n",
    "import seaborn as sns\n",
    "import pandas as pd"
   ]
  },
  {
   "cell_type": "code",
   "execution_count": 15,
   "metadata": {},
   "outputs": [
    {
     "data": {
      "image/png": "[encoded data removed]",
      "text/plain": [
       "<Figure size 432x288 with 1 Axes>"
      ]
     },
     "metadata": {
      "needs_background": "light"
     },
     "output_type": "display_data"
    }
   ],
   "source": [
    "# 10번 시도시 성공할 확률 중에서 60% 성공 할 확률이 제일 높게 지정 ( 시뮬레이션 아님 )\n",
    "\n",
    "N = 10\n",
    "theta = 0.6  # 베르누이 분포의 모수(parameter)인 확률변수 값\n",
    "rv = sp.stats.binom(N, theta)\n",
    "\n",
    "xx = np.arange(N+1)  # 0~10 까지의 값\n",
    "plt.bar(xx, rv.pmf(xx))\n",
    "plt.ylabel(\"pmf(x)\")\n",
    "plt.grid(True)"
   ]
  },
  {
   "cell_type": "code",
   "execution_count": 20,
   "metadata": {
    "collapsed": true
   },
   "outputs": [
    {
     "name": "stdout",
     "output_type": "stream",
     "text": [
      "[ 6  5  6  6  6  5  6  4  3  6  5  6  6  4  8  8  9  5  5  4  3  5  6  5\n",
      "  8  5  8  4  6  6  7  5  6  6  9  6  6  6  4  5  7  6  5  8  5  5  7  8\n",
      "  7  7  6  6  2  8  7  8  5  7  6  7  8  8  5  8  7  7  5  8  4  8  3  6\n",
      "  3  6  5  9  7  8  7  8  7  6  8  5  6  7  6  8  6  4  7  5  8  5  7  7\n",
      "  6  9  5 10]\n"
     ]
    },
    {
     "data": {
      "text/plain": [
       "<matplotlib.axes._subplots.AxesSubplot at 0x1ec1decb128>"
      ]
     },
     "execution_count": 20,
     "metadata": {},
     "output_type": "execute_result"
    },
    {
     "data": {
      "image/png": "[encoded data removed]",
      "text/plain": [
       "<Figure size 432x288 with 1 Axes>"
      ]
     },
     "metadata": {},
     "output_type": "display_data"
    }
   ],
   "source": [
    "\"\"\" 시뮬레이션 (rvs 메소드 이용 )\"\"\"\n",
    "np.random.seed(0)\n",
    "x = rv.rvs(100) # 10번을 던졌을 때 성공할 횟수를 100번 샘플링 하겠다\n",
    "print(x)\n",
    "\n",
    "# 10번을 던졌을 때의 나온 횟수를 다시 정리하자면\n",
    "# sns.set()    # 추후에 전체적인 스타일 변경하고자\n",
    "# sns.set_style('darkgrid')\n",
    "sns.countplot(x)"
   ]
  },
  {
   "cell_type": "code",
   "execution_count": 24,
   "metadata": {},
   "outputs": [
    {
     "name": "stdout",
     "output_type": "stream",
     "text": [
      "    sample        type         %\n",
      "0        0      theory  0.000105\n",
      "1        0  simulation  0.000000\n",
      "2        1      theory  0.001573\n",
      "3        1  simulation  0.000000\n",
      "4        2      theory  0.010617\n",
      "5        2  simulation  0.010000\n",
      "6        3      theory  0.042467\n",
      "7        3  simulation  0.040000\n",
      "8        4      theory  0.111477\n",
      "9        4  simulation  0.070000\n",
      "10       5      theory  0.200658\n",
      "11       5  simulation  0.210000\n",
      "12       6      theory  0.250823\n",
      "13       6  simulation  0.270000\n",
      "14       7      theory  0.214991\n",
      "15       7  simulation  0.170000\n",
      "16       8      theory  0.120932\n",
      "17       8  simulation  0.180000\n",
      "18       9      theory  0.040311\n",
      "19       9  simulation  0.040000\n",
      "20      10      theory  0.006047\n",
      "21      10  simulation  0.010000\n"
     ]
    },
    {
     "data": {
      "text/plain": [
       "<matplotlib.axes._subplots.AxesSubplot at 0x1ec1e052cf8>"
      ]
     },
     "execution_count": 24,
     "metadata": {},
     "output_type": "execute_result"
    },
    {
     "data": {
      "image/png": "[encoded data removed]",
      "text/plain": [
       "<Figure size 432x288 with 1 Axes>"
      ]
     },
     "metadata": {},
     "output_type": "display_data"
    }
   ],
   "source": [
    "\"\"\" 이론과 시뮬레이션 비교 \"\"\"\n",
    "y = np.bincount(x, minlength=N+1)/float(len(x))\n",
    "df = pd.DataFrame({'theory': rv.pmf(xx), 'simulation': y})\n",
    "df2 = df.stack().reset_index()\n",
    "df2.columns = ['sample','type','%']\n",
    "print(df2)\n",
    "\n",
    "# [분석]\n",
    "# 7번인 경우 이론보다 시뮬레이션 값이 더  적게 나오고 8번인 경우는 시뮬레이션에서 조금 더 많이 나왔다\n",
    "# 표의 값을 먼저 비교한 후에 시각화로 표시\n",
    "\n",
    "sns.barplot(x='sample', y='%', hue='type', data=df2)"
   ]
  },
  {
   "cell_type": "code",
   "execution_count": null,
   "metadata": {},
   "outputs": [],
   "source": []
  }
 ],
 "metadata": {
  "kernelspec": {
   "display_name": "Python 3",
   "language": "python",
   "name": "python3"
  },
  "language_info": {
   "codemirror_mode": {
    "name": "ipython",
    "version": 3
   },
   "file_extension": ".py",
   "mimetype": "text/x-python",
   "name": "python",
   "nbconvert_exporter": "python",
   "pygments_lexer": "ipython3",
   "version": "3.7.3"
  }
 },
 "nbformat": 4,
 "nbformat_minor": 2
}
