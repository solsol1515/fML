{
 "cells": [
  {
   "cell_type": "markdown",
   "metadata": {},
   "source": [
    "# * scipy : 통계 관련 패키기\n",
    "\n",
    "---\n",
    "\n",
    "### 모형에 입력 변수 선정\n",
    "\n",
    "1- 카이제곱 검정 (Chi-square Test )\n",
    "    \n",
    "    ` 이산형 변수 - 이산형 변수\n",
    "    ` 성별과 구매여부 사이에 유의한 관계가 있는가\n",
    "\n",
    "2- 독립표본t검정 (t-Test) : 이분류 모형의 경우\n",
    "\n",
    "    ` 이산형 변수(2그룹) - 연속형 변수\n",
    "    ` 체중과 구매여부 사이에 유의한 관계가 있는가 \n",
    "      ( 구매자와 비구매자의 평균 체중이 다른가? )\n",
    "\n",
    "3- 분산분석 (ANOVA ) : 다분류 모형의 경우\n",
    "\n",
    "    ` 이산형 변수(3그룹이상 ) - 연속형 변수\n",
    "    ` 체중과 고객등급 사이에 유의한 관계가 있는가?\n",
    "     ( 고객등급에 따라 평균 체중에 크게 다른가? )\n",
    "     \n",
    "     "
   ]
  },
  {
   "cell_type": "code",
   "execution_count": null,
   "metadata": {},
   "outputs": [],
   "source": []
  },
  {
   "cell_type": "markdown",
   "metadata": {},
   "source": [
    "    \n",
    "#  **[참고] 가설 검정**\n",
    "   - 반증법에 의거해 증명\n",
    "   - [참고사이트1](https://angeloyeo.github.io/2020/03/25/hypothesis.html)\n",
    "   - [참고사이트2](https://ko.wikipedia.org/wiki/%EA%B0%80%EC%84%A4_%EA%B2%80%EC%A0%95)\n",
    "   - 귀무가설과 대립가설\n",
    "       ex) 우리 대표 메뉴의 소고기 함량이 20g임을 증명하고자 한다면,\n",
    "           \"모든 접시에 소고기 함량이 20g이 아니다\"는 귀무가설에 두고\n",
    "           이에 20g에 미달됨이 없을 입증하여 이 가설을 기각함으로써\n",
    "           내가 입증하고픈 \"우리 대표 메뉴의 소고기 함량은 20g이다\"를 증명한다\n",
    "\n",
    "---\n",
    "---\n",
    "\n",
    "## 1. 카이제곱 검정\n",
    "\n",
    ": 이산형과 이산형 변수가 서로 상관관계가 있는지 확인\n",
    "\n",
    "* 귀무가설 : 두 데이터는 상관관계가 없다\n",
    "* 대립가설 : 두 데이터는 상관관계가 있다 (내가 주장하고 싶은 가설)\n",
    "    - p-value < 0.05 : 귀무가설 기각, 대립가설 채택\n",
    "    - p-value > 0.05 : 귀무가설 채택, 대립가설 기각\n",
    "    \n",
    "    p-value가 0.05보다 작으면 통계적으로 의미가 있어서\n",
    "    내가 주장하고 싶은 가설인 대립가설을 채택한다\n",
    " \n"
   ]
  },
  {
   "cell_type": "code",
   "execution_count": null,
   "metadata": {},
   "outputs": [],
   "source": [
    "from scipy import stats\n",
    "\n",
    "data1=[4,6,15,10, 9, 11]   # 관측치\n",
    "data2=[10,10,10,10,10,10]  # 기대치\n",
    "\n"
   ]
  },
  {
   "cell_type": "code",
   "execution_count": null,
   "metadata": {},
   "outputs": [],
   "source": [
    "#----------------------------------------\n"
   ]
  },
  {
   "cell_type": "code",
   "execution_count": null,
   "metadata": {},
   "outputs": [],
   "source": []
  },
  {
   "cell_type": "markdown",
   "metadata": {},
   "source": [
    "## 2.  t-test\n",
    "\n",
    "전체 학생 중에서 20명의 학생들을 선택하여 전체 학생들의 평균키가 170cm 인지 확인한다.\n",
    "\n",
    "- 귀무가설 : 학생들의 평균키가 175cm이다.\n",
    "- 대립가설 : 학생들의 평균키가 175cm가 아니다\n",
    "    "
   ]
  },
  {
   "cell_type": "code",
   "execution_count": null,
   "metadata": {},
   "outputs": [],
   "source": [
    "import numpy as np\n",
    "from scipy import stats\n",
    "\n",
    "\n",
    "np.random.seed(1)  # 랜덤 결과가 동일하게 나오도록\n",
    "\n",
    "# np.random.normal(0,5) : 평균 0, 표준편차 5인 난수\n",
    "# for 에 _ 대신 변수명 아무거나 입력해도 되지만 그 변수를 사용하지 않기에 _로 표시해도 된다\n",
    "heights = [ 180 + np.random.normal(0,5) for _ in range(20)]\n",
    "print(heights)\n"
   ]
  },
  {
   "cell_type": "code",
   "execution_count": null,
   "metadata": {},
   "outputs": [],
   "source": [
    "#----------------------------------------\n",
    "\n"
   ]
  },
  {
   "cell_type": "markdown",
   "metadata": {},
   "source": [
    "## 독립표본 t-검정\n",
    "\n",
    " : 독립된 2개의 표본이 다르지 확인 : ttest_ind(group1, group2)\n",
    " \n",
    " \n",
    "전체 학생 중에서 각각 20명의 학생들을 선택한 2개의 그룹에서 평균키가 같은지 다른지 확인한다\n",
    "\n",
    "- 귀무가설 : 학생들의 평균키는 같다\n",
    "- 대립가설 : 학생들의 평균키는 같지 않다"
   ]
  },
  {
   "cell_type": "code",
   "execution_count": null,
   "metadata": {},
   "outputs": [],
   "source": [
    "import numpy as np\n",
    "from scipy import stats\n",
    "\n",
    "\n",
    "np.random.seed(1)  # 랜덤 결과가 동일하게 나오도록\n",
    "\n",
    "group1 = [180 + np.random.normal(0,5) for _ in range(20)]  # np.random.normal(0,5) : 평균 0, 표준편차 5인 난수\n",
    "print(group1)\n",
    "group2 = [175 + np.random.normal(0,10) for _ in range(20)]\n",
    "print(group2)\n",
    "\n",
    "# 평균확인 - 평균은 비슷하다 하더라고 통계적으로 차이가 난다고 할 수 없다\n",
    "print('group1의 평균 :', np.mean(group1))\n",
    "print('group2의 평균 :', np.mean(group2))\n",
    "\n",
    "\n"
   ]
  },
  {
   "cell_type": "code",
   "execution_count": null,
   "metadata": {},
   "outputs": [],
   "source": []
  },
  {
   "cell_type": "code",
   "execution_count": null,
   "metadata": {},
   "outputs": [],
   "source": []
  }
 ],
 "metadata": {
  "kernelspec": {
   "display_name": "Python 3",
   "language": "python",
   "name": "python3"
  },
  "language_info": {
   "codemirror_mode": {
    "name": "ipython",
    "version": 3
   },
   "file_extension": ".py",
   "mimetype": "text/x-python",
   "name": "python",
   "nbconvert_exporter": "python",
   "pygments_lexer": "ipython3",
   "version": "3.8.8"
  }
 },
 "nbformat": 4,
 "nbformat_minor": 2
}
